{
 "cells": [
  {
   "cell_type": "markdown",
   "source": [
    "### Учимся по тексту сообщения в диалоге с другом определять, вы его отправили или он вам.\n",
    "\n",
    "Обучаем классификатор и оцениваем его работу.\n",
    "\n",
    "---\n",
    "\n",
    "\n",
    "\n",
    "Импортируем библиотеки, устанавливаем тип и размер шрифта и графиков."
   ],
   "metadata": {
    "collapsed": false
   }
  },
  {
   "cell_type": "code",
   "execution_count": null,
   "outputs": [],
   "source": [
    "import pandas as pd\n",
    "import numpy as np\n",
    "\n",
    "import matplotlib\n",
    "from matplotlib import pyplot as plt\n",
    "import seaborn as sns\n",
    "\n",
    "matplotlib.rc('font', family='sans-serif') \n",
    "matplotlib.rc('font', serif='Helvetica Neue') \n",
    "matplotlib.rc('text', usetex='false') \n",
    "matplotlib.rcParams.update({'font.size': 18})\n",
    "plot_size = (15, 10)"
   ],
   "metadata": {
    "collapsed": false,
    "pycharm": {
     "name": "#%%\n"
    }
   }
  },
  {
   "cell_type": "markdown",
   "source": [
    "Скачивание данных из ВК. Скрипт забирает все сообщения с человеком _uid_ непустым текстом и клаёт их в файл _filename_."
   ],
   "metadata": {
    "collapsed": false
   }
  },
  {
   "cell_type": "code",
   "execution_count": null,
   "outputs": [],
   "source": [
    "import get_data\n",
    "uid = 123456789\n",
    "get_data.download_message_history(uid)"
   ],
   "metadata": {
    "collapsed": false,
    "pycharm": {
     "name": "#%%\n"
    }
   }
  },
  {
   "cell_type": "raw",
   "source": [
    "Загружаем данные и выводим, чтобы на них посмотреть."
   ],
   "metadata": {
    "collapsed": false
   }
  },
  {
   "cell_type": "code",
   "execution_count": null,
   "outputs": [],
   "source": [
    "df = pd.read_csv(\"messages.csv\", delimiter=\"\\t\")\n",
    "df.head(3)"
   ],
   "metadata": {
    "collapsed": false,
    "pycharm": {
     "name": "#%%\n"
    }
   }
  },
  {
   "cell_type": "markdown",
   "source": [
    "Немного обработаем датасет. Добавим длину сообщения (число слов), преобразуем timestamp в формат даты."
   ],
   "metadata": {
    "collapsed": false
   }
  },
  {
   "cell_type": "code",
   "execution_count": null,
   "outputs": [],
   "source": [
    "df[\"n_words\"] = df[\"text\"].apply(lambda string: len(string.split()))\n",
    "df[\"length\"] =  df[\"text\"].str.len()\n",
    "df[\"timestamp\"] = pd.to_datetime(df[\"timestamp\"], unit=\"s\")\n",
    "\n",
    "df.head(3)"
   ],
   "metadata": {
    "collapsed": false,
    "pycharm": {
     "name": "#%%\n"
    }
   }
  },
  {
   "cell_type": "markdown",
   "source": [
    "Соберём статистику по датасету."
   ],
   "metadata": {
    "collapsed": false
   }
  },
  {
   "cell_type": "code",
   "execution_count": null,
   "outputs": [],
   "source": [
    "%%javascript\n",
    "IPython.OutputArea.auto_scroll_threshold = 1009999;\n",
    "console.log(IPython.OutputArea.auto_scroll_threshold);"
   ],
   "metadata": {
    "collapsed": false,
    "pycharm": {
     "name": "#%%\n"
    }
   }
  },
  {
   "cell_type": "code",
   "execution_count": null,
   "outputs": [],
   "source": [
    "print(f\"Размер выборки: {df.shape[0]} сообщений\")\n",
    "\n",
    "m_in = df[df[\"is_out\"] == 0]\n",
    "m_out = df[df[\"is_out\"] == 1]\n",
    "_, axes = plt.subplots(2, 2, figsize=(20, 20))\n",
    "has_attachments_m_in_n = m_in[m_in[\"has_attachments\"] == 1].shape[0]\n",
    "has_attachments_m_out_n = m_out[m_out[\"has_attachments\"] == 1].shape[0]\n",
    "data = np.array([\n",
    "    df.is_out.value_counts(), \n",
    "    np.array([m_in[\"n_words\"].mean(), m_out[\"n_words\"].mean()]),\n",
    "    np.array([m_in[\"length\"].mean(), m_out[\"length\"].mean()]),\n",
    "    np.array([has_attachments_m_in_n / m_in[\"has_attachments\"].shape[0], \n",
    "              has_attachments_m_out_n / m_out[\"has_attachments\"].shape[0], ])\n",
    "])\n",
    "labels = [\"Общее число сообщений\", \"Среднее число слов в сообщении\", \n",
    "          \"Среднее число символов в сообщении\", \"Доля сообщений с вложениями\"]\n",
    "bar_width = 0.6\n",
    "\n",
    "for i, ax in enumerate(axes.flatten()):\n",
    "    label = labels[i]\n",
    "    ax.title.set_text(label)\n",
    "    ax.set_xticks((0, 1))\n",
    "    ax.set_xticklabels((\"Входящие\", \"Исходящие\"))\n",
    "    ax.bar(0, data[i][0], bar_width)\n",
    "    ax.bar(1,  data[i][1], bar_width)\n",
    "    if (i == 0):\n",
    "        ax.annotate(\n",
    "            '{:.2f}%'.format(100 * data[i][0] / df.shape[0]), (0, data[i][0] / 2), ha='center', va='center'\n",
    "        )\n",
    "        ax.annotate(\n",
    "            '{:.2f}%'.format(100 * data[i][1] / df.shape[0]), (1, data[i][1] / 2), ha='center', va='center'\n",
    "        );\n",
    "    else:\n",
    "        ax.annotate(\"{:.2f}\".format(data[i][0]), (0, data[i][0] / 2), ha='center', va='center')\n",
    "        ax.annotate(\"{:.2f}\".format(data[i][1]), (1, data[i][1] / 2), ha='center', va='center');"
   ],
   "metadata": {
    "collapsed": false,
    "pycharm": {
     "name": "#%%\n"
    }
   }
  },
  {
   "cell_type": "markdown",
   "source": [
    "Распределение сообщений по времени:"
   ],
   "metadata": {
    "collapsed": false
   }
  },
  {
   "cell_type": "code",
   "execution_count": null,
   "outputs": [],
   "source": [
    "df.timestamp.hist(bins=50, figsize=plot_size);"
   ],
   "metadata": {
    "collapsed": false,
    "pycharm": {
     "name": "#%%\n"
    }
   }
  },
  {
   "cell_type": "markdown",
   "source": [
    "Делим выборку на тренировочную и тестовую."
   ],
   "metadata": {
    "collapsed": false
   }
  },
  {
   "cell_type": "code",
   "execution_count": null,
   "outputs": [],
   "source": [
    "from sklearn.model_selection import train_test_split\n",
    "df_train, df_test = train_test_split(df, random_state=42)"
   ],
   "metadata": {
    "collapsed": false,
    "pycharm": {
     "name": "#%%\n"
    }
   }
  },
  {
   "cell_type": "markdown",
   "source": [
    "Для обработки слов будем использовать _CountVectorizer_ и _TfidfTransformer_. Решаем задчу классификации с булевыми входными данными, поэтому в качестве алгоритма предскания я выбрал наивный байесовский классификатор _BernoulliNB_."
   ],
   "metadata": {
    "collapsed": false
   }
  },
  {
   "cell_type": "code",
   "execution_count": null,
   "outputs": [],
   "source": [
    "from sklearn.feature_extraction.text import CountVectorizer, TfidfTransformer\n",
    "from sklearn.naive_bayes import BernoulliNB\n",
    "\n",
    "from sklearn.pipeline import Pipeline\n",
    "\n",
    "message_classifier = Pipeline([\n",
    "    ('vectorizer', CountVectorizer()), \n",
    "    ('tfidf_transformer', TfidfTransformer()),\n",
    "    ('bernoulli_naive_bayes', BernoulliNB()),\n",
    "], verbose=10000)\n"
   ],
   "metadata": {
    "collapsed": false,
    "pycharm": {
     "name": "#%%\n"
    }
   }
  },
  {
   "cell_type": "markdown",
   "source": [
    "Обучаем модель."
   ],
   "metadata": {
    "collapsed": false
   }
  },
  {
   "cell_type": "code",
   "execution_count": null,
   "outputs": [],
   "source": [
    "message_classifier.fit(df_train.text, df_train.is_out)"
   ],
   "metadata": {
    "collapsed": false,
    "pycharm": {
     "name": "#%%\n"
    }
   }
  },
  {
   "cell_type": "code",
   "execution_count": null,
   "outputs": [],
   "source": [
    "score = message_classifier.score(df_test.text, df_test.is_out)\n",
    "print(f\"Точность: {round(100 * score, 2)}%\")"
   ],
   "metadata": {
    "collapsed": false,
    "pycharm": {
     "name": "#%%\n"
    }
   }
  },
  {
   "cell_type": "markdown",
   "source": [
    "Примеры работы, предсказания и использования:"
   ],
   "metadata": {
    "collapsed": false
   }
  },
  {
   "cell_type": "code",
   "execution_count": null,
   "outputs": [],
   "source": [
    "messages = [\"Спокойной ночи\", \n",
    "            \"Сладких снов\", \n",
    "            \"Как же офигенно прогать\", \n",
    "            \"Я так много раз делала\", \n",
    "            \"Как я ненавижу себя в такие моменты\", \n",
    "            \"Как ты вообще к спойлерам относишься?\"]\n",
    "\n",
    "correct = [1, 0, 1, 0, 0, 1]\n",
    "types = [\"входящее\", \"исходящее\"]\n",
    "\n",
    "results = message_classifier.predict(messages)\n",
    "results_proba = message_classifier.predict_proba(messages)\n",
    "\n",
    "for i, answer in enumerate(results):\n",
    "    print(f\"Мне кажется, что сообщение \\\"{messages[i]}\\\" {types[answer]}.\")\n",
    "    print(f\"Моя уверенность составляла {results_proba[i][answer]}\")\n",
    "    print(f\"Правильный ответ - это сообщение {types[correct[i]]}.\\n\")"
   ],
   "metadata": {
    "collapsed": false,
    "pycharm": {
     "name": "#%%\n"
    }
   }
  },
  {
   "cell_type": "markdown",
   "source": [
    "Эти функции можно использовать для предсказания результата. _test_ выдаёт один ответ, _test_proba_ возвращает вероятности"
   ],
   "metadata": {
    "collapsed": false
   }
  },
  {
   "cell_type": "code",
   "execution_count": null,
   "outputs": [],
   "source": [
    "def test(message):\n",
    "    result = message_classifier.predict([message])[0]\n",
    "    return types[result]\n",
    "\n",
    "def test_proba(message):\n",
    "    result = message_classifier.predict_proba([message])[0]\n",
    "    \n",
    "    return {types[0]: result[0], types[1]: result[1]}\n",
    "\n",
    "print(test_proba(\"Спокойной ночи)\"))"
   ],
   "metadata": {
    "collapsed": false,
    "pycharm": {
     "name": "#%%\n"
    }
   }
  },
  {
   "cell_type": "markdown",
   "source": [
    "Оценим качество предсказний. Здесь показаны метрици качества предсказаний:"
   ],
   "metadata": {
    "collapsed": false
   }
  },
  {
   "cell_type": "code",
   "execution_count": null,
   "outputs": [],
   "source": [
    "from sklearn.metrics import precision_recall_fscore_support\n",
    "\n",
    "precision_score, recall_score, f_score, support = precision_recall_fscore_support(\n",
    "    df_test.is_out, \n",
    "    message_classifier.predict(df_test.text)\n",
    ")\n",
    "scores = np.array([precision_score, recall_score, f_score])\n",
    "_, ax = plt.subplots(figsize=plot_size)\n",
    "\n",
    "indexes = np.arange(len(scores))\n",
    "\n",
    "ax.set_xticks(indexes)\n",
    "ax.set_xticklabels(('Точность', 'Полнота', 'F-мера'))\n",
    "ax.set_title('Оценки работы классификатора')\n",
    "ax.set_ylabel('Результат')\n",
    "\n",
    "bar_width = 0.2\n",
    "ax.bar(indexes - bar_width / 2, scores[:, 0], bar_width, label=types[0])\n",
    "ax.bar(indexes + bar_width / 2, scores[:, 1], bar_width, label=types[1])\n",
    "ax.legend(bbox_to_anchor=(0.5, -0.2), loc=\"center\", title=\"Тип сообщения\",);"
   ],
   "metadata": {
    "collapsed": false,
    "pycharm": {
     "name": "#%%\n"
    }
   }
  },
  {
   "cell_type": "markdown",
   "source": [
    "roc-кривая:"
   ],
   "metadata": {
    "collapsed": false
   }
  },
  {
   "cell_type": "code",
   "execution_count": null,
   "outputs": [],
   "source": [
    "from sklearn.metrics import plot_roc_curve\n",
    "\n",
    "_, ax = plt.subplots(figsize=plot_size)\n",
    "rc = plot_roc_curve(message_classifier, df_test.text, df_test.is_out, ax=ax)\n",
    "ax.set_xlabel(\"Ложно-положительные результаты\")\n",
    "ax.set_ylabel(\"Правдиво-положительные результаты\");"
   ],
   "metadata": {
    "collapsed": false,
    "pycharm": {
     "name": "#%%\n"
    }
   }
  },
  {
   "cell_type": "markdown",
   "source": [
    "И матрица ошибок:"
   ],
   "metadata": {
    "collapsed": false
   }
  },
  {
   "cell_type": "code",
   "execution_count": null,
   "outputs": [],
   "source": [
    "from sklearn.metrics import plot_confusion_matrix\n",
    "\n",
    "labels = types\n",
    "_, ax = plt.subplots(figsize=plot_size)\n",
    "cm = plot_confusion_matrix(\n",
    "    message_classifier, \n",
    "    df_test.text, \n",
    "    df_test.is_out, \n",
    "    normalize='pred', \n",
    "    cmap=plt.cm.Greys, \n",
    "    display_labels=labels, \n",
    "    ax=ax\n",
    ")\n",
    "cm.ax_.set_xlabel(\"Предсказаные значения\")\n",
    "cm.ax_.set_ylabel(\"Верные значения\");"
   ],
   "metadata": {
    "collapsed": false,
    "pycharm": {
     "name": "#%%\n"
    }
   }
  },
  {
   "cell_type": "code",
   "execution_count": null,
   "outputs": [],
   "source": [
    "Как мы можем видеть, предсказания не идеальные. Скорее всего это произошло из-за того, что довольно много сообщений могли быть отправлены как одним человеком, так и вторым (к примеру, \"Привет\", \"Как дела\", \"Ладно\", \"Почему?\", \"Хорошо\"), и эти сообщения довольно популярны. Однако, если взять работу классификатора по модулю невозможности предсказания на таких сообщениях, он работает достойно. \n",
    "Преимущество _TfidfTransformer_ в сочетании с классификатором _BernoulliNB_ состоит в том, что вектора признаков хранятся разреженно, поэтому занимают меньше места и позволяют обучать быстрее (обучение на 900 тысячах сообщений проходит меньше, чем за секунду)."
   ],
   "metadata": {
    "collapsed": false,
    "pycharm": {
     "name": "#%%\n"
    }
   }
  },
  {
   "cell_type": "code",
   "execution_count": null,
   "outputs": [],
   "source": [],
   "metadata": {
    "collapsed": false,
    "pycharm": {
     "name": "#%%\n"
    }
   }
  }
 ],
 "metadata": {
  "kernelspec": {
   "display_name": "PyCharm (mlIntro)",
   "language": "python",
   "name": "pycharm-d5884ab"
  },
  "language_info": {
   "codemirror_mode": {
    "name": "ipython",
    "version": 3
   },
   "file_extension": ".py",
   "mimetype": "text/x-python",
   "name": "python",
   "nbconvert_exporter": "python",
   "pygments_lexer": "ipython3",
   "version": "3.6.9"
  }
 },
 "nbformat": 4,
 "nbformat_minor": 4
}